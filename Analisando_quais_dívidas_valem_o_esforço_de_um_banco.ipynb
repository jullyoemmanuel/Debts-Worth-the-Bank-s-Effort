{
  "cells": [
    {
      "cell_type": "markdown",
      "metadata": {
        "id": "view-in-github",
        "colab_type": "text"
      },
      "source": [
        "<a href=\"https://colab.research.google.com/github/jullyoemmanuel/Debts-Worth-the-Bank-s-Effort/blob/main/Analisando_quais_d%C3%ADvidas_valem_o_esfor%C3%A7o_de_um_banco.ipynb\" target=\"_parent\"><img src=\"https://colab.research.google.com/assets/colab-badge.svg\" alt=\"Open In Colab\"/></a>"
      ]
    },
    {
      "metadata": {
        "dc": {
          "key": "4"
        },
        "deletable": false,
        "editable": false,
        "run_control": {
          "frozen": true
        },
        "tags": [
          "context"
        ],
        "id": "t7Vg30yJCO5y"
      },
      "cell_type": "markdown",
      "source": [
        "## 1. Descontinuidade da regressão: recuperação bancária\n",
        "<center>\n",
        "<img src=\"https://drive.google.com/uc?id=1MuAT-NzucCs7IvLf318yKuhRvH--yQ8m\" style=\"width:700px\"> <br> \n",
        "</center>\n",
        "\n",
        "Nos bancos estadunidenses, quando uma dívida é legalmente declarada como \"incobrável\", geralmente a conta do cliente fica definida como <a href=\"https://www.usbank.com/customer-service/knowledge-base/KB0206698.html\">Charged off</a> (é um termo contábil que significa que o credor considera uma dívida como incobrável).\n",
        "\n",
        "\n",
        "\n",
        "\n"
      ]
    },
    {
      "cell_type": "markdown",
      "source": [
        "Mas isso não significa que o banco deixa a dívida de lado. Eles ainda querem receber parte do dinheiro que lhes é devido. Para isso, o banco pontuará a conta para avaliar o **Valor de Recuperação Esperado**, ou seja, o valor esperado que o banco poderá receber do cliente no futuro. Esse valor é uma função da probabilidade de pagamento do cliente, da dívida total e de outros fatores que afetam a capacidade e a disposição de pagamento.\n",
        "\n",
        "O banco do nosso dataset implementou diferentes estratégias de recuperação em diferentes intervalos (\\$1.000, \\$2.000, etc.), onde quanto maior o valor de recuperação esperado, mais esforço o banco coloca para entrar em contato com o cliente. Para valores baixos de recuperação (Nível 0), o banco apenas adiciona as informações de contato do cliente ao discador automático e ao sistema de e-mail. Para estratégias de recuperação mais altas, o banco incorre em mais custos, pois alavanca recursos humanos em mais esforços para obter pagamentos. \n",
        "\n",
        "Cada nível adicional de estratégia de recuperação requer \\$50 adicionais por cliente, de modo que os clientes no Nível 1 da Estratégia de Recuperação custem à empresa \\$50 a mais do que os do Nível 0. Os clientes no Nível 2 custam \\$50 a mais do que os do Nível 1, e assim por diante.\n",
        "\n",
        "As questões chave são: **Esse processo vale a pena?** A quantia extra recuperada no nível de estratégia mais alto excede os \\$50 extras em custos? Em outras palavras, houve um salto (também chamado de \"descontinuidade\") de mais de \\$50 no valor recuperado no nível superior da estratégia? Vamos descobrir neste caderno."
      ],
      "metadata": {
        "id": "OkFo10-mtC9C"
      }
    },
    {
      "cell_type": "markdown",
      "source": [
        "<center>\n",
        "<img src=\"https://drive.google.com/uc?id=1b6hPnMCEKLHlMuems6iCvLP0LKWa_Lp7\" style=\"width:800px\"> <br> \n",
        "</center>\n",
        "\n",
        "\n",
        "Primeiro, carregaremos o conjunto de dados bancários e examinaremos as primeiras linhas de dados. Isso nos permite entender o próprio conjunto de dados e começar a pensar em como analisar os dados."
      ],
      "metadata": {
        "id": "TacRr-WgtGU5"
      }
    },
    {
      "metadata": {
        "dc": {
          "key": "4"
        },
        "tags": [
          "sample_code"
        ],
        "trusted": true,
        "id": "DljBlem8CO54",
        "outputId": "09533f05-3813-42ea-b021-2ba24174c2d1",
        "colab": {
          "base_uri": "https://localhost:8080/",
          "height": 206
        }
      },
      "cell_type": "code",
      "source": [
        "# Importando as bibliotecas\n",
        "import pandas as pd\n",
        "import numpy as np\n",
        "\n",
        "# Lendo o dataset\n",
        "df = pd.read_csv(\"/content/bank_data.csv\")\n",
        "\n",
        "# Imprimir primeiras 5 linhas do dataset\n",
        "df.head()"
      ],
      "execution_count": 1,
      "outputs": [
        {
          "output_type": "execute_result",
          "data": {
            "text/plain": [
              "     id  expected_recovery_amount  actual_recovery_amount recovery_strategy  \\\n",
              "0  2030                       194                 263.540  Level 0 Recovery   \n",
              "1  1150                       486                 416.090  Level 0 Recovery   \n",
              "2   380                       527                 429.350  Level 0 Recovery   \n",
              "3  1838                       536                 296.990  Level 0 Recovery   \n",
              "4  1995                       541                 346.385  Level 0 Recovery   \n",
              "\n",
              "   age     sex  \n",
              "0   19    Male  \n",
              "1   25  Female  \n",
              "2   27    Male  \n",
              "3   25    Male  \n",
              "4   34    Male  "
            ],
            "text/html": [
              "\n",
              "  <div id=\"df-cb198379-1af8-487a-9da1-828653cdfd84\">\n",
              "    <div class=\"colab-df-container\">\n",
              "      <div>\n",
              "<style scoped>\n",
              "    .dataframe tbody tr th:only-of-type {\n",
              "        vertical-align: middle;\n",
              "    }\n",
              "\n",
              "    .dataframe tbody tr th {\n",
              "        vertical-align: top;\n",
              "    }\n",
              "\n",
              "    .dataframe thead th {\n",
              "        text-align: right;\n",
              "    }\n",
              "</style>\n",
              "<table border=\"1\" class=\"dataframe\">\n",
              "  <thead>\n",
              "    <tr style=\"text-align: right;\">\n",
              "      <th></th>\n",
              "      <th>id</th>\n",
              "      <th>expected_recovery_amount</th>\n",
              "      <th>actual_recovery_amount</th>\n",
              "      <th>recovery_strategy</th>\n",
              "      <th>age</th>\n",
              "      <th>sex</th>\n",
              "    </tr>\n",
              "  </thead>\n",
              "  <tbody>\n",
              "    <tr>\n",
              "      <th>0</th>\n",
              "      <td>2030</td>\n",
              "      <td>194</td>\n",
              "      <td>263.540</td>\n",
              "      <td>Level 0 Recovery</td>\n",
              "      <td>19</td>\n",
              "      <td>Male</td>\n",
              "    </tr>\n",
              "    <tr>\n",
              "      <th>1</th>\n",
              "      <td>1150</td>\n",
              "      <td>486</td>\n",
              "      <td>416.090</td>\n",
              "      <td>Level 0 Recovery</td>\n",
              "      <td>25</td>\n",
              "      <td>Female</td>\n",
              "    </tr>\n",
              "    <tr>\n",
              "      <th>2</th>\n",
              "      <td>380</td>\n",
              "      <td>527</td>\n",
              "      <td>429.350</td>\n",
              "      <td>Level 0 Recovery</td>\n",
              "      <td>27</td>\n",
              "      <td>Male</td>\n",
              "    </tr>\n",
              "    <tr>\n",
              "      <th>3</th>\n",
              "      <td>1838</td>\n",
              "      <td>536</td>\n",
              "      <td>296.990</td>\n",
              "      <td>Level 0 Recovery</td>\n",
              "      <td>25</td>\n",
              "      <td>Male</td>\n",
              "    </tr>\n",
              "    <tr>\n",
              "      <th>4</th>\n",
              "      <td>1995</td>\n",
              "      <td>541</td>\n",
              "      <td>346.385</td>\n",
              "      <td>Level 0 Recovery</td>\n",
              "      <td>34</td>\n",
              "      <td>Male</td>\n",
              "    </tr>\n",
              "  </tbody>\n",
              "</table>\n",
              "</div>\n",
              "      <button class=\"colab-df-convert\" onclick=\"convertToInteractive('df-cb198379-1af8-487a-9da1-828653cdfd84')\"\n",
              "              title=\"Convert this dataframe to an interactive table.\"\n",
              "              style=\"display:none;\">\n",
              "        \n",
              "  <svg xmlns=\"http://www.w3.org/2000/svg\" height=\"24px\"viewBox=\"0 0 24 24\"\n",
              "       width=\"24px\">\n",
              "    <path d=\"M0 0h24v24H0V0z\" fill=\"none\"/>\n",
              "    <path d=\"M18.56 5.44l.94 2.06.94-2.06 2.06-.94-2.06-.94-.94-2.06-.94 2.06-2.06.94zm-11 1L8.5 8.5l.94-2.06 2.06-.94-2.06-.94L8.5 2.5l-.94 2.06-2.06.94zm10 10l.94 2.06.94-2.06 2.06-.94-2.06-.94-.94-2.06-.94 2.06-2.06.94z\"/><path d=\"M17.41 7.96l-1.37-1.37c-.4-.4-.92-.59-1.43-.59-.52 0-1.04.2-1.43.59L10.3 9.45l-7.72 7.72c-.78.78-.78 2.05 0 2.83L4 21.41c.39.39.9.59 1.41.59.51 0 1.02-.2 1.41-.59l7.78-7.78 2.81-2.81c.8-.78.8-2.07 0-2.86zM5.41 20L4 18.59l7.72-7.72 1.47 1.35L5.41 20z\"/>\n",
              "  </svg>\n",
              "      </button>\n",
              "      \n",
              "  <style>\n",
              "    .colab-df-container {\n",
              "      display:flex;\n",
              "      flex-wrap:wrap;\n",
              "      gap: 12px;\n",
              "    }\n",
              "\n",
              "    .colab-df-convert {\n",
              "      background-color: #E8F0FE;\n",
              "      border: none;\n",
              "      border-radius: 50%;\n",
              "      cursor: pointer;\n",
              "      display: none;\n",
              "      fill: #1967D2;\n",
              "      height: 32px;\n",
              "      padding: 0 0 0 0;\n",
              "      width: 32px;\n",
              "    }\n",
              "\n",
              "    .colab-df-convert:hover {\n",
              "      background-color: #E2EBFA;\n",
              "      box-shadow: 0px 1px 2px rgba(60, 64, 67, 0.3), 0px 1px 3px 1px rgba(60, 64, 67, 0.15);\n",
              "      fill: #174EA6;\n",
              "    }\n",
              "\n",
              "    [theme=dark] .colab-df-convert {\n",
              "      background-color: #3B4455;\n",
              "      fill: #D2E3FC;\n",
              "    }\n",
              "\n",
              "    [theme=dark] .colab-df-convert:hover {\n",
              "      background-color: #434B5C;\n",
              "      box-shadow: 0px 1px 3px 1px rgba(0, 0, 0, 0.15);\n",
              "      filter: drop-shadow(0px 1px 2px rgba(0, 0, 0, 0.3));\n",
              "      fill: #FFFFFF;\n",
              "    }\n",
              "  </style>\n",
              "\n",
              "      <script>\n",
              "        const buttonEl =\n",
              "          document.querySelector('#df-cb198379-1af8-487a-9da1-828653cdfd84 button.colab-df-convert');\n",
              "        buttonEl.style.display =\n",
              "          google.colab.kernel.accessAllowed ? 'block' : 'none';\n",
              "\n",
              "        async function convertToInteractive(key) {\n",
              "          const element = document.querySelector('#df-cb198379-1af8-487a-9da1-828653cdfd84');\n",
              "          const dataTable =\n",
              "            await google.colab.kernel.invokeFunction('convertToInteractive',\n",
              "                                                     [key], {});\n",
              "          if (!dataTable) return;\n",
              "\n",
              "          const docLinkHtml = 'Like what you see? Visit the ' +\n",
              "            '<a target=\"_blank\" href=https://colab.research.google.com/notebooks/data_table.ipynb>data table notebook</a>'\n",
              "            + ' to learn more about interactive tables.';\n",
              "          element.innerHTML = '';\n",
              "          dataTable['output_type'] = 'display_data';\n",
              "          await google.colab.output.renderOutput(dataTable, element);\n",
              "          const docLink = document.createElement('div');\n",
              "          docLink.innerHTML = docLinkHtml;\n",
              "          element.appendChild(docLink);\n",
              "        }\n",
              "      </script>\n",
              "    </div>\n",
              "  </div>\n",
              "  "
            ]
          },
          "metadata": {},
          "execution_count": 1
        }
      ]
    },
    {
      "metadata": {
        "dc": {
          "key": "11"
        },
        "deletable": false,
        "editable": false,
        "run_control": {
          "frozen": true
        },
        "tags": [
          "context"
        ],
        "id": "lGWneg1ZCO57"
      },
      "cell_type": "markdown",
      "source": [
        "## 2. Análise gráfica exploratória de dados\n",
        "O banco implementou diferentes estratégias de recuperação em diferentes intervalos (\\$1000, \\$2000, \\$3000 e \\$5000) onde quanto maior for o Valor Esperado de Recuperação, mais esforço o banco coloca em contacto com o cliente. Zerar na primeira transição (entre o Nível 0 e o Nível 1) significa que estamos focados na população com Valores Esperados de Recuperação entre \\$0 e \\$2000 onde a transição entre os Níveis ocorreu em \\$1000.\n",
        "\n",
        "Aqui está um rápido resumo dos níveis e limites novamente:\n",
        "\n",
        "* Nível 0: Valores de recuperação esperados &gt; \\$0 e &lt;= \\$1000\n",
        "* Nível 1: Valores de recuperação esperados &gt; \\$1000 e &lt;= \\$2000\n",
        "* Nosso limite entre os níveis 0 e 1 é $1000\n",
        "\n",
        "Uma questão-chave é se existem outros fatores além do Valor de Recuperação Esperado que também variaram sistematicamente ao longo do limite de \\$1.000. Por exemplo, a idade do cliente mostra um salto (descontinuidade) no limite de \\$1.000 ou essa idade varia suavemente? Podemos examinar isso fazendo primeiro um gráfico de dispersão da idade como uma função do Valor Esperado de Recuperação para uma pequena janela do Valor Esperado de Recuperação, \\$0 a \\$2000. Este intervalo cobre os Níveis 0 e 1."
      ]
    },
    {
      "metadata": {
        "dc": {
          "key": "11"
        },
        "tags": [
          "sample_code"
        ],
        "trusted": true,
        "id": "LoQ4MJANCO57",
        "outputId": "39fc988e-6497-4f42-a2bf-21d0581e2856",
        "colab": {
          "base_uri": "https://localhost:8080/",
          "height": 283
        }
      },
      "cell_type": "code",
      "source": [
        "# Gráfico de dispersão de Idade vs. Valor de Recuperação Esperado\n",
        "from matplotlib import pyplot as plt\n",
        "%matplotlib inline\n",
        "plt.scatter(x=df['expected_recovery_amount'], y=df['age'], c=\"g\", s=2)\n",
        "plt.xlim(0, 2000)\n",
        "plt.ylim(0, 60)\n",
        "plt.xlabel('Valor de Recuperação Esperado')\n",
        "plt.ylabel('Idade')\n",
        "plt.show()"
      ],
      "execution_count": 6,
      "outputs": [
        {
          "output_type": "display_data",
          "data": {
            "text/plain": [
              "<Figure size 432x288 with 1 Axes>"
            ],
            "image/png": "[encoded data removed]"
          },
          "metadata": {
            "needs_background": "light"
          }
        }
      ]
    },
    {
      "metadata": {
        "dc": {
          "key": "18"
        },
        "deletable": false,
        "editable": false,
        "run_control": {
          "frozen": true
        },
        "tags": [
          "context"
        ],
        "id": "ClwIS09xCO58"
      },
      "cell_type": "markdown",
      "source": [
        "## 3. Teste estatístico: idade vs. valor de recuperação esperado\n",
        "Queremos nos convencer de que variáveis ​​como idade e sexo são semelhantes acima e abaixo do limite de \\$1.000 Valor de Recuperação Esperada. Isso é importante porque queremos poder concluir que as diferenças no valor de recuperação real são devidas à estratégia de recuperação mais alta e não devido a alguma outra diferença, como idade ou sexo.\n",
        "\n",
        "O gráfico de dispersão da idade versus Valor de recuperação esperado não mostrou um salto óbvio em torno de \\$1.000. Faremos agora uma análise estatística examinando a idade média dos clientes logo acima e logo abaixo do limite. Podemos começar explorando a faixa de \\$900 a \\$1100.\n",
        "\n",
        "Para determinar se há diferença nas idades logo acima e logo abaixo do limiar, usaremos o <a href=\"https://pt.wikipedia.org/wiki/Teste_de_Kruskal-Wallis\">teste de Kruskal-Wallis</a>, um teste estatístico que não faz suposições distributivas."
      ]
    },
    {
      "metadata": {
        "dc": {
          "key": "18"
        },
        "tags": [
          "sample_code"
        ],
        "trusted": true,
        "id": "HrLjYs2pCO59",
        "outputId": "3b34fded-cf17-4e05-c827-be112fbde5bb",
        "colab": {
          "base_uri": "https://localhost:8080/"
        }
      },
      "cell_type": "code",
      "source": [
        "# Importar stats\n",
        "from scipy import stats\n",
        "\n",
        "# Calcular a idade média logo abaixo e acima do limite\n",
        "era_900_1100 = df.loc[(df['expected_recovery_amount']< 1100) & \n",
        "                      (df['expected_recovery_amount']>= 900)]\n",
        "by_recovery_strategy = era_900_1100.groupby(['recovery_strategy'])\n",
        "by_recovery_strategy['age'].describe().unstack()\n",
        "\n",
        "# Usando o teste de Kruskal-Wallis \n",
        "Level_0_age = era_900_1100.loc[df['recovery_strategy'] == \"Level 0 Recovery\"]['age']\n",
        "Level_1_age = era_900_1100.loc[df['recovery_strategy'] == \"Level 1 Recovery\"]['age']\n",
        "stats.kruskal(Level_0_age,Level_1_age) "
      ],
      "execution_count": 7,
      "outputs": [
        {
          "output_type": "execute_result",
          "data": {
            "text/plain": [
              "KruskalResult(statistic=3.4572342749517513, pvalue=0.06297556896097407)"
            ]
          },
          "metadata": {},
          "execution_count": 7
        }
      ]
    },
    {
      "metadata": {
        "dc": {
          "key": "26"
        },
        "deletable": false,
        "editable": false,
        "run_control": {
          "frozen": true
        },
        "tags": [
          "context"
        ],
        "id": "tvZHgio-CO5-"
      },
      "cell_type": "markdown",
      "source": [
        "## 4. Teste estatístico: sexo vs. valor de recuperação esperado\n",
        "Vimos que não há grande salto na idade média do cliente logo acima e logo\n",
        "abaixo do limite de \\$1000 fazendo um teste estatístico, bem como explorando-o graficamente com um gráfico de dispersão.\n",
        "Também queremos testar se a porcentagem de clientes do sexo masculino não ultrapassa o limite de \\$1.000. Podemos começar explorando a faixa de \\$900 a \\$1100 e posteriormente ajustar essa faixa.\n",
        "Podemos examinar esta questão estatisticamente desenvolvendo tabelas cruzadas, bem como fazendo um  <a href=\"https://en.wikipedia.org/wiki/Chi-squared_test\">teste Chi-square</a> da porcentagem de clientes masculinos versus femininos."
      ]
    },
    {
      "metadata": {
        "dc": {
          "key": "26"
        },
        "tags": [
          "sample_code"
        ],
        "trusted": true,
        "id": "ccdczpxICO5-",
        "outputId": "e94a2a7c-f875-4053-8406-e2e3268c5943",
        "colab": {
          "base_uri": "https://localhost:8080/"
        }
      },
      "cell_type": "code",
      "source": [
        "# Número de clientes em cada categoria\n",
        "crosstab = pd.crosstab(df.loc[(df['expected_recovery_amount']<1100) & \n",
        "                              (df['expected_recovery_amount']>=900)]['recovery_strategy'], \n",
        "                       df['sex'])\n",
        "print(crosstab)\n",
        "\n",
        "# Teste Chi-square \n",
        "chi2_stat, p_val, dof, ex = stats.chi2_contingency(crosstab)\n",
        "p_val"
      ],
      "execution_count": 8,
      "outputs": [
        {
          "output_type": "stream",
          "name": "stdout",
          "text": [
            "sex                Female  Male\n",
            "recovery_strategy              \n",
            "Level 0 Recovery       32    57\n",
            "Level 1 Recovery       39    55\n"
          ]
        },
        {
          "output_type": "execute_result",
          "data": {
            "text/plain": [
              "0.5377947810444592"
            ]
          },
          "metadata": {},
          "execution_count": 8
        }
      ]
    },
    {
      "metadata": {
        "dc": {
          "key": "33"
        },
        "deletable": false,
        "editable": false,
        "run_control": {
          "frozen": true
        },
        "tags": [
          "context"
        ],
        "id": "lvBvZ1euCO5_"
      },
      "cell_type": "markdown",
      "source": [
        "## 5. Análise gráfica exploratória: montante de recuperação\n",
        "Agora estamos razoavelmente confiantes de que os clientes logo acima e logo abaixo do limite de $ 1.000 são, em média, semelhantes em sua idade média e na porcentagem de homens.\n",
        "\n",
        "Agora é hora de focar no principal resultado dos juros, o Valor Real de Recuperação.\n",
        "\n",
        "Um primeiro passo para examinar a relação entre o valor real de recuperação  e o valor de recuperação esperado é desenvolver um gráfico de dispersão onde queremos focar nossa atenção no intervalo logo abaixo e logo acima do limite. Especificamente, desenvolveremos um gráfico de dispersão do Valor de Recuperação Esperado (X) versus Valor de Recuperação Real (Y) para Valores de Recuperação Esperados entre \\$900 e \\$1100. Este intervalo abrange os níveis 0 e 1. Uma questão-chave é se vemos ou não uma descontinuidade (salto) em torno do limite de \\$1000."
      ]
    },
    {
      "metadata": {
        "dc": {
          "key": "33"
        },
        "tags": [
          "sample_code"
        ],
        "trusted": true,
        "id": "uZVXrRaKCO5_",
        "outputId": "6bd16778-f8e1-48de-c86f-d00dfa42e70d",
        "colab": {
          "base_uri": "https://localhost:8080/",
          "height": 283
        }
      },
      "cell_type": "code",
      "source": [
        "# Gráfico de dispersão do Valor Real de Recuperação  vs. Valor de Recuperação Esperado \n",
        "plt.scatter(x=df['expected_recovery_amount'], y=df['actual_recovery_amount'], c=\"g\", s=2)\n",
        "plt.xlim(900, 1100)\n",
        "plt.ylim(0, 2000)\n",
        "plt.xlabel(\"Valor de Recuperação Esperado\")\n",
        "plt.ylabel(\"Valor Real de Recuperação\")\n",
        "plt.show()"
      ],
      "execution_count": 9,
      "outputs": [
        {
          "output_type": "display_data",
          "data": {
            "text/plain": [
              "<Figure size 432x288 with 1 Axes>"
            ],
            "image/png": "[encoded data removed]"
          },
          "metadata": {
            "needs_background": "light"
          }
        }
      ]
    },
    {
      "metadata": {
        "dc": {
          "key": "40"
        },
        "deletable": false,
        "editable": false,
        "run_control": {
          "frozen": true
        },
        "tags": [
          "context"
        ],
        "id": "L1ii79YgCO6A"
      },
      "cell_type": "markdown",
      "source": [
        "## 6. Análise estatística: montante de recuperação\n",
        "Assim como fizemos com a idade, podemos realizar testes estatísticos para ver se o valor de recuperação real apresenta uma descontinuidade acima do limite de \\$1.000. Faremos isso para duas janelas diferentes do valor de recuperação esperado \\$900 a \\$1100 e para um intervalo menor, de \\$950 a \\$1050, para ver se nossos resultados são consistentes.\n",
        "\n",
        "Novamente, usaremos o teste de Kruskal-Wallis.\n",
        "\n",
        "Primeiro calcularemos o valor médio real de recuperação para os clientes logo abaixo e logo acima do limite usando um intervalo de \\$900 a \\$1100. Em seguida, realizaremos um teste de Kruskal-Wallis para ver se os valores reais de recuperação são diferentes logo acima e logo abaixo do limite. Feito isso, repetiremos essas etapas para uma janela menor de \\$950 a \\$1050."
      ]
    },
    {
      "metadata": {
        "dc": {
          "key": "40"
        },
        "tags": [
          "sample_code"
        ],
        "trusted": true,
        "id": "PuWfwjdfCO6A",
        "outputId": "116d86d5-b145-4fc9-c27a-5234242bf894",
        "colab": {
          "base_uri": "https://localhost:8080/"
        }
      },
      "cell_type": "code",
      "source": [
        "# Calcula o valor médio real de recuperação logo abaixo e acima do limite\n",
        "by_recovery_strategy['actual_recovery_amount'].describe().unstack()\n",
        "\n",
        "# Teste de Kruskal-Wallis\n",
        "Level_0_actual = era_900_1100.loc[df['recovery_strategy']=='Level 0 Recovery']['actual_recovery_amount']\n",
        "Level_1_actual = era_900_1100.loc[df['recovery_strategy']=='Level 1 Recovery']['actual_recovery_amount']\n",
        "stats.kruskal(Level_0_actual, Level_1_actual) \n",
        "\n",
        "# Repitindo para um intervalo menor de $ 950 a $ 1050\n",
        "era_950_1050 = df.loc[(df['expected_recovery_amount']<1050) & \n",
        "                      (df['expected_recovery_amount']>=950)]\n",
        "\n",
        "Level_0_actual = era_950_1050.loc[df['recovery_strategy']=='Level 0 Recovery']['actual_recovery_amount']\n",
        "Level_1_actual = era_950_1050.loc[df['recovery_strategy']=='Level 1 Recovery']['actual_recovery_amount']\n",
        "stats.kruskal(Level_0_actual, Level_1_actual) "
      ],
      "execution_count": null,
      "outputs": [
        {
          "output_type": "execute_result",
          "data": {
            "text/plain": [
              "KruskalResult(statistic=30.246000000000038, pvalue=3.80575314300276e-08)"
            ]
          },
          "metadata": {},
          "execution_count": 26
        }
      ]
    },
    {
      "metadata": {
        "dc": {
          "key": "48"
        },
        "deletable": false,
        "editable": false,
        "run_control": {
          "frozen": true
        },
        "tags": [
          "context"
        ],
        "id": "0PW_bBTYCO6B"
      },
      "cell_type": "markdown",
      "source": [
        "## 7. Modelagem de regressão: sem limite\n",
        "Agora queremos adotar uma abordagem baseada em regressão para estimar o impacto do programa no limite de \\$1.000 usando dados que estão logo acima e abaixo do limite.\n",
        "\n",
        "Faremos dois modelos. O primeiro modelo não possui um limite, enquanto o segundo incluirá um limite.\n",
        "\n",
        "O primeiro modelo prevê o valor de recuperação real (variável dependente) em função do valor de recuperação esperado (variável independente). Esperamos que haja uma forte relação positiva entre essas duas variáveis.\n",
        "\n",
        "Examinaremos o R-quadrado ajustado para ver a porcentagem de variância explicada pelo modelo. Neste modelo, não estamos representando o limite, mas simplesmente vendo como a variável usada para atribuir os clientes (valor de recuperação esperado) se relaciona com a variável de resultado (valor de recuperação real)."
      ]
    },
    {
      "metadata": {
        "dc": {
          "key": "48"
        },
        "tags": [
          "sample_code"
        ],
        "trusted": true,
        "id": "KsnFikcPCO6B",
        "outputId": "ad3f16ab-0968-46b3-be90-d21140978aa6",
        "colab": {
          "base_uri": "https://localhost:8080/",
          "height": 541
        }
      },
      "cell_type": "code",
      "source": [
        "# Importando statsmodels\n",
        "import statsmodels.api as sm\n",
        "\n",
        "# Definindo X e y\n",
        "X = era_900_1100['expected_recovery_amount']\n",
        "y = era_900_1100['actual_recovery_amount']\n",
        "X = sm.add_constant(X)\n",
        "\n",
        "# Construindo um modelo de regressão linear\n",
        "model = sm.OLS(y, X).fit()\n",
        "predictions = model.predict(X)\n",
        "\n",
        "# Imprimindo as estatísticas de resumo do modelo\n",
        "model.summary()"
      ],
      "execution_count": null,
      "outputs": [
        {
          "output_type": "stream",
          "name": "stderr",
          "text": [
            "/usr/local/lib/python3.8/dist-packages/statsmodels/tsa/tsatools.py:142: FutureWarning: In a future version of pandas all arguments of concat except for the argument 'objs' will be keyword-only\n",
            "  x = pd.concat(x[::order], 1)\n"
          ]
        },
        {
          "output_type": "execute_result",
          "data": {
            "text/plain": [
              "<class 'statsmodels.iolib.summary.Summary'>\n",
              "\"\"\"\n",
              "                              OLS Regression Results                              \n",
              "==================================================================================\n",
              "Dep. Variable:     actual_recovery_amount   R-squared:                       0.261\n",
              "Model:                                OLS   Adj. R-squared:                  0.256\n",
              "Method:                     Least Squares   F-statistic:                     63.78\n",
              "Date:                    Wed, 01 Feb 2023   Prob (F-statistic):           1.56e-13\n",
              "Time:                            12:41:17   Log-Likelihood:                -1278.9\n",
              "No. Observations:                     183   AIC:                             2562.\n",
              "Df Residuals:                         181   BIC:                             2568.\n",
              "Df Model:                               1                                         \n",
              "Covariance Type:                nonrobust                                         \n",
              "============================================================================================\n",
              "                               coef    std err          t      P>|t|      [0.025      0.975]\n",
              "--------------------------------------------------------------------------------------------\n",
              "const                    -1978.7597    347.741     -5.690      0.000   -2664.907   -1292.612\n",
              "expected_recovery_amount     2.7577      0.345      7.986      0.000       2.076       3.439\n",
              "==============================================================================\n",
              "Omnibus:                       64.493   Durbin-Watson:                   1.777\n",
              "Prob(Omnibus):                  0.000   Jarque-Bera (JB):              185.818\n",
              "Skew:                           1.463   Prob(JB):                     4.47e-41\n",
              "Kurtosis:                       6.977   Cond. No.                     1.80e+04\n",
              "==============================================================================\n",
              "\n",
              "Notes:\n",
              "[1] Standard Errors assume that the covariance matrix of the errors is correctly specified.\n",
              "[2] The condition number is large, 1.8e+04. This might indicate that there are\n",
              "strong multicollinearity or other numerical problems.\n",
              "\"\"\""
            ],
            "text/html": [
              "<table class=\"simpletable\">\n",
              "<caption>OLS Regression Results</caption>\n",
              "<tr>\n",
              "  <th>Dep. Variable:</th>    <td>actual_recovery_amount</td> <th>  R-squared:         </th> <td>   0.261</td>\n",
              "</tr>\n",
              "<tr>\n",
              "  <th>Model:</th>                      <td>OLS</td>          <th>  Adj. R-squared:    </th> <td>   0.256</td>\n",
              "</tr>\n",
              "<tr>\n",
              "  <th>Method:</th>                <td>Least Squares</td>     <th>  F-statistic:       </th> <td>   63.78</td>\n",
              "</tr>\n",
              "<tr>\n",
              "  <th>Date:</th>                <td>Wed, 01 Feb 2023</td>    <th>  Prob (F-statistic):</th> <td>1.56e-13</td>\n",
              "</tr>\n",
              "<tr>\n",
              "  <th>Time:</th>                    <td>12:41:17</td>        <th>  Log-Likelihood:    </th> <td> -1278.9</td>\n",
              "</tr>\n",
              "<tr>\n",
              "  <th>No. Observations:</th>         <td>   183</td>         <th>  AIC:               </th> <td>   2562.</td>\n",
              "</tr>\n",
              "<tr>\n",
              "  <th>Df Residuals:</th>             <td>   181</td>         <th>  BIC:               </th> <td>   2568.</td>\n",
              "</tr>\n",
              "<tr>\n",
              "  <th>Df Model:</th>                 <td>     1</td>         <th>                     </th>     <td> </td>   \n",
              "</tr>\n",
              "<tr>\n",
              "  <th>Covariance Type:</th>         <td>nonrobust</td>       <th>                     </th>     <td> </td>   \n",
              "</tr>\n",
              "</table>\n",
              "<table class=\"simpletable\">\n",
              "<tr>\n",
              "              <td></td>                <th>coef</th>     <th>std err</th>      <th>t</th>      <th>P>|t|</th>  <th>[0.025</th>    <th>0.975]</th>  \n",
              "</tr>\n",
              "<tr>\n",
              "  <th>const</th>                    <td>-1978.7597</td> <td>  347.741</td> <td>   -5.690</td> <td> 0.000</td> <td>-2664.907</td> <td>-1292.612</td>\n",
              "</tr>\n",
              "<tr>\n",
              "  <th>expected_recovery_amount</th> <td>    2.7577</td> <td>    0.345</td> <td>    7.986</td> <td> 0.000</td> <td>    2.076</td> <td>    3.439</td>\n",
              "</tr>\n",
              "</table>\n",
              "<table class=\"simpletable\">\n",
              "<tr>\n",
              "  <th>Omnibus:</th>       <td>64.493</td> <th>  Durbin-Watson:     </th> <td>   1.777</td>\n",
              "</tr>\n",
              "<tr>\n",
              "  <th>Prob(Omnibus):</th> <td> 0.000</td> <th>  Jarque-Bera (JB):  </th> <td> 185.818</td>\n",
              "</tr>\n",
              "<tr>\n",
              "  <th>Skew:</th>          <td> 1.463</td> <th>  Prob(JB):          </th> <td>4.47e-41</td>\n",
              "</tr>\n",
              "<tr>\n",
              "  <th>Kurtosis:</th>      <td> 6.977</td> <th>  Cond. No.          </th> <td>1.80e+04</td>\n",
              "</tr>\n",
              "</table><br/><br/>Notes:<br/>[1] Standard Errors assume that the covariance matrix of the errors is correctly specified.<br/>[2] The condition number is large, 1.8e+04. This might indicate that there are<br/>strong multicollinearity or other numerical problems."
            ]
          },
          "metadata": {},
          "execution_count": 27
        }
      ]
    },
    {
      "metadata": {
        "dc": {
          "key": "55"
        },
        "deletable": false,
        "editable": false,
        "run_control": {
          "frozen": true
        },
        "tags": [
          "context"
        ],
        "id": "5k88EIXTCO6C"
      },
      "cell_type": "markdown",
      "source": [
        "## 8. Modelagem de regressão: adicionando limite verdadeiro\n",
        "Do primeiro modelo, vemos que o coeficiente de regressão do valor esperado de recuperação é estatisticamente significativo.\n",
        "\n",
        "O segundo modelo adiciona um indicador do limite verdadeiro ao modelo (neste caso em \\$1000).\n",
        "\n",
        "Criaremos uma variável indicadora (0 ou 1) que representa se o valor de recuperação esperado foi ou não maior que \\$1.000. Quando adicionamos o limite verdadeiro ao modelo, o coeficiente de regressão para o limite verdadeiro representa a quantidade adicional recuperada devido à estratégia de recuperação mais alta. Ou seja, o coeficiente de regressão para o limite verdadeiro mede o tamanho da descontinuidade para clientes logo acima e logo abaixo do limite.\n",
        "Se a estratégia de recuperação mais alta ajudou a recuperar mais dinheiro, o coeficiente de regressão do limite verdadeiro será maior que zero. Se a estratégia de recuperação mais alta não ajudou a recuperar mais dinheiro, o coeficiente de regressão não será estatisticamente significativo."
      ]
    },
    {
      "metadata": {
        "dc": {
          "key": "55"
        },
        "tags": [
          "sample_code"
        ],
        "trusted": true,
        "id": "O1yNiJZGCO6C",
        "outputId": "f84110c7-6a56-48ec-8495-91eb359a1e53",
        "colab": {
          "base_uri": "https://localhost:8080/",
          "height": 562
        }
      },
      "cell_type": "code",
      "source": [
        "# Criando indicador (0 ou 1) para valor de recuperação esperado >= $ 1000\n",
        "df['indicator_1000'] = np.where(df['expected_recovery_amount']<1000, 0, 1)\n",
        "era_900_1100 = df.loc[(df['expected_recovery_amount']<1100) & \n",
        "                      (df['expected_recovery_amount']>=900)]\n",
        "\n",
        "# Definindo X e y\n",
        "X = era_900_1100[['expected_recovery_amount','indicator_1000']]\n",
        "y = era_900_1100['actual_recovery_amount']\n",
        "X = sm.add_constant(X)\n",
        "\n",
        "# Construindo um modelo de regressão linear\n",
        "model = sm.OLS(y,X).fit()\n",
        "\n",
        "# Imprimindo as estatísticas de resumo do modelo\n",
        "model.summary()"
      ],
      "execution_count": null,
      "outputs": [
        {
          "output_type": "stream",
          "name": "stderr",
          "text": [
            "/usr/local/lib/python3.8/dist-packages/statsmodels/tsa/tsatools.py:142: FutureWarning: In a future version of pandas all arguments of concat except for the argument 'objs' will be keyword-only\n",
            "  x = pd.concat(x[::order], 1)\n"
          ]
        },
        {
          "output_type": "execute_result",
          "data": {
            "text/plain": [
              "<class 'statsmodels.iolib.summary.Summary'>\n",
              "\"\"\"\n",
              "                              OLS Regression Results                              \n",
              "==================================================================================\n",
              "Dep. Variable:     actual_recovery_amount   R-squared:                       0.314\n",
              "Model:                                OLS   Adj. R-squared:                  0.307\n",
              "Method:                     Least Squares   F-statistic:                     41.22\n",
              "Date:                    Wed, 01 Feb 2023   Prob (F-statistic):           1.83e-15\n",
              "Time:                            12:42:58   Log-Likelihood:                -1272.0\n",
              "No. Observations:                     183   AIC:                             2550.\n",
              "Df Residuals:                         180   BIC:                             2560.\n",
              "Df Model:                               2                                         \n",
              "Covariance Type:                nonrobust                                         \n",
              "============================================================================================\n",
              "                               coef    std err          t      P>|t|      [0.025      0.975]\n",
              "--------------------------------------------------------------------------------------------\n",
              "const                        3.3440    626.274      0.005      0.996   -1232.440    1239.128\n",
              "expected_recovery_amount     0.6430      0.655      0.981      0.328      -0.650       1.936\n",
              "indicator_1000             277.6344     74.043      3.750      0.000     131.530     423.739\n",
              "==============================================================================\n",
              "Omnibus:                       65.977   Durbin-Watson:                   1.906\n",
              "Prob(Omnibus):                  0.000   Jarque-Bera (JB):              186.537\n",
              "Skew:                           1.510   Prob(JB):                     3.12e-41\n",
              "Kurtosis:                       6.917   Cond. No.                     3.37e+04\n",
              "==============================================================================\n",
              "\n",
              "Notes:\n",
              "[1] Standard Errors assume that the covariance matrix of the errors is correctly specified.\n",
              "[2] The condition number is large, 3.37e+04. This might indicate that there are\n",
              "strong multicollinearity or other numerical problems.\n",
              "\"\"\""
            ],
            "text/html": [
              "<table class=\"simpletable\">\n",
              "<caption>OLS Regression Results</caption>\n",
              "<tr>\n",
              "  <th>Dep. Variable:</th>    <td>actual_recovery_amount</td> <th>  R-squared:         </th> <td>   0.314</td>\n",
              "</tr>\n",
              "<tr>\n",
              "  <th>Model:</th>                      <td>OLS</td>          <th>  Adj. R-squared:    </th> <td>   0.307</td>\n",
              "</tr>\n",
              "<tr>\n",
              "  <th>Method:</th>                <td>Least Squares</td>     <th>  F-statistic:       </th> <td>   41.22</td>\n",
              "</tr>\n",
              "<tr>\n",
              "  <th>Date:</th>                <td>Wed, 01 Feb 2023</td>    <th>  Prob (F-statistic):</th> <td>1.83e-15</td>\n",
              "</tr>\n",
              "<tr>\n",
              "  <th>Time:</th>                    <td>12:42:58</td>        <th>  Log-Likelihood:    </th> <td> -1272.0</td>\n",
              "</tr>\n",
              "<tr>\n",
              "  <th>No. Observations:</th>         <td>   183</td>         <th>  AIC:               </th> <td>   2550.</td>\n",
              "</tr>\n",
              "<tr>\n",
              "  <th>Df Residuals:</th>             <td>   180</td>         <th>  BIC:               </th> <td>   2560.</td>\n",
              "</tr>\n",
              "<tr>\n",
              "  <th>Df Model:</th>                 <td>     2</td>         <th>                     </th>     <td> </td>   \n",
              "</tr>\n",
              "<tr>\n",
              "  <th>Covariance Type:</th>         <td>nonrobust</td>       <th>                     </th>     <td> </td>   \n",
              "</tr>\n",
              "</table>\n",
              "<table class=\"simpletable\">\n",
              "<tr>\n",
              "              <td></td>                <th>coef</th>     <th>std err</th>      <th>t</th>      <th>P>|t|</th>  <th>[0.025</th>    <th>0.975]</th>  \n",
              "</tr>\n",
              "<tr>\n",
              "  <th>const</th>                    <td>    3.3440</td> <td>  626.274</td> <td>    0.005</td> <td> 0.996</td> <td>-1232.440</td> <td> 1239.128</td>\n",
              "</tr>\n",
              "<tr>\n",
              "  <th>expected_recovery_amount</th> <td>    0.6430</td> <td>    0.655</td> <td>    0.981</td> <td> 0.328</td> <td>   -0.650</td> <td>    1.936</td>\n",
              "</tr>\n",
              "<tr>\n",
              "  <th>indicator_1000</th>           <td>  277.6344</td> <td>   74.043</td> <td>    3.750</td> <td> 0.000</td> <td>  131.530</td> <td>  423.739</td>\n",
              "</tr>\n",
              "</table>\n",
              "<table class=\"simpletable\">\n",
              "<tr>\n",
              "  <th>Omnibus:</th>       <td>65.977</td> <th>  Durbin-Watson:     </th> <td>   1.906</td>\n",
              "</tr>\n",
              "<tr>\n",
              "  <th>Prob(Omnibus):</th> <td> 0.000</td> <th>  Jarque-Bera (JB):  </th> <td> 186.537</td>\n",
              "</tr>\n",
              "<tr>\n",
              "  <th>Skew:</th>          <td> 1.510</td> <th>  Prob(JB):          </th> <td>3.12e-41</td>\n",
              "</tr>\n",
              "<tr>\n",
              "  <th>Kurtosis:</th>      <td> 6.917</td> <th>  Cond. No.          </th> <td>3.37e+04</td>\n",
              "</tr>\n",
              "</table><br/><br/>Notes:<br/>[1] Standard Errors assume that the covariance matrix of the errors is correctly specified.<br/>[2] The condition number is large, 3.37e+04. This might indicate that there are<br/>strong multicollinearity or other numerical problems."
            ]
          },
          "metadata": {},
          "execution_count": 28
        }
      ]
    },
    {
      "metadata": {
        "dc": {
          "key": "62"
        },
        "deletable": false,
        "editable": false,
        "run_control": {
          "frozen": true
        },
        "tags": [
          "context"
        ],
        "id": "IQW7nx5RCO6C"
      },
      "cell_type": "markdown",
      "source": [
        "## 9. Modelagem de regressão: ajustando a janela\n",
        "O coeficiente de regressão para o limiar verdadeiro foi estatisticamente significativo com um impacto estimado em torno de \\$278. Isso é muito maior do que os $ 50 por cliente necessários para executar essa estratégia de recuperação mais alta.\n",
        "\n",
        "Antes de mostrar isso ao nosso gerente, queremos nos convencer de que esse resultado não foi devido à escolha de uma janela de valor de recuperação esperada de \\$900 a \\$1100. Vamos repetir esta análise para a janela de \\$950 a \\$1050 para ver se obtemos resultados semelhantes.\n",
        "\n",
        "A resposta? Quer usemos uma janela ampla (\\$900 a \\$1100) ou mais estreita (\\$950 a \\$1050), o valor da recuperação incremental na estratégia de recuperação mais alta é muito maior do que os \\$ ​​50 por cliente que custa para a estratégia de recuperação mais alta. Portanto, concluímos que a estratégia de recuperação mais alta vale o custo extra de \\$50 por cliente."
      ]
    },
    {
      "metadata": {
        "dc": {
          "key": "62"
        },
        "tags": [
          "sample_code"
        ],
        "trusted": true,
        "id": "whycHiGxCO6D",
        "outputId": "a57d3d60-31c4-4c15-bb10-fccf55ade438",
        "colab": {
          "base_uri": "https://localhost:8080/",
          "height": 562
        }
      },
      "cell_type": "code",
      "source": [
        "# Redefinindo era_950_1050 para que a variável indicadora seja incluída\n",
        "era_950_1050 = df.loc[(df['expected_recovery_amount']<1050) & \n",
        "                      (df['expected_recovery_amount']>=950)]\n",
        "\n",
        "# Definindo X e y\n",
        "X = era_950_1050[['expected_recovery_amount','indicator_1000']]\n",
        "y = era_950_1050['actual_recovery_amount']\n",
        "X = sm.add_constant(X)\n",
        "\n",
        "# Construindo um modelo de regressão linear\n",
        "model = sm.OLS(y,X).fit()\n",
        "\n",
        "# Imprimindo as estatísticas de resumo do modelo\n",
        "model.summary()"
      ],
      "execution_count": null,
      "outputs": [
        {
          "output_type": "stream",
          "name": "stderr",
          "text": [
            "/usr/local/lib/python3.8/dist-packages/statsmodels/tsa/tsatools.py:142: FutureWarning: In a future version of pandas all arguments of concat except for the argument 'objs' will be keyword-only\n",
            "  x = pd.concat(x[::order], 1)\n"
          ]
        },
        {
          "output_type": "execute_result",
          "data": {
            "text/plain": [
              "<class 'statsmodels.iolib.summary.Summary'>\n",
              "\"\"\"\n",
              "                              OLS Regression Results                              \n",
              "==================================================================================\n",
              "Dep. Variable:     actual_recovery_amount   R-squared:                       0.283\n",
              "Model:                                OLS   Adj. R-squared:                  0.269\n",
              "Method:                     Least Squares   F-statistic:                     18.99\n",
              "Date:                    Wed, 01 Feb 2023   Prob (F-statistic):           1.12e-07\n",
              "Time:                            12:44:41   Log-Likelihood:                -692.92\n",
              "No. Observations:                      99   AIC:                             1392.\n",
              "Df Residuals:                          96   BIC:                             1400.\n",
              "Df Model:                               2                                         \n",
              "Covariance Type:                nonrobust                                         \n",
              "============================================================================================\n",
              "                               coef    std err          t      P>|t|      [0.025      0.975]\n",
              "--------------------------------------------------------------------------------------------\n",
              "const                     -279.5243   1840.707     -0.152      0.880   -3933.298    3374.250\n",
              "expected_recovery_amount     0.9189      1.886      0.487      0.627      -2.825       4.663\n",
              "indicator_1000             286.5337    111.352      2.573      0.012      65.502     507.566\n",
              "==============================================================================\n",
              "Omnibus:                       39.302   Durbin-Watson:                   1.955\n",
              "Prob(Omnibus):                  0.000   Jarque-Bera (JB):               82.258\n",
              "Skew:                           1.564   Prob(JB):                     1.37e-18\n",
              "Kurtosis:                       6.186   Cond. No.                     6.81e+04\n",
              "==============================================================================\n",
              "\n",
              "Notes:\n",
              "[1] Standard Errors assume that the covariance matrix of the errors is correctly specified.\n",
              "[2] The condition number is large, 6.81e+04. This might indicate that there are\n",
              "strong multicollinearity or other numerical problems.\n",
              "\"\"\""
            ],
            "text/html": [
              "<table class=\"simpletable\">\n",
              "<caption>OLS Regression Results</caption>\n",
              "<tr>\n",
              "  <th>Dep. Variable:</th>    <td>actual_recovery_amount</td> <th>  R-squared:         </th> <td>   0.283</td>\n",
              "</tr>\n",
              "<tr>\n",
              "  <th>Model:</th>                      <td>OLS</td>          <th>  Adj. R-squared:    </th> <td>   0.269</td>\n",
              "</tr>\n",
              "<tr>\n",
              "  <th>Method:</th>                <td>Least Squares</td>     <th>  F-statistic:       </th> <td>   18.99</td>\n",
              "</tr>\n",
              "<tr>\n",
              "  <th>Date:</th>                <td>Wed, 01 Feb 2023</td>    <th>  Prob (F-statistic):</th> <td>1.12e-07</td>\n",
              "</tr>\n",
              "<tr>\n",
              "  <th>Time:</th>                    <td>12:44:41</td>        <th>  Log-Likelihood:    </th> <td> -692.92</td>\n",
              "</tr>\n",
              "<tr>\n",
              "  <th>No. Observations:</th>         <td>    99</td>         <th>  AIC:               </th> <td>   1392.</td>\n",
              "</tr>\n",
              "<tr>\n",
              "  <th>Df Residuals:</th>             <td>    96</td>         <th>  BIC:               </th> <td>   1400.</td>\n",
              "</tr>\n",
              "<tr>\n",
              "  <th>Df Model:</th>                 <td>     2</td>         <th>                     </th>     <td> </td>   \n",
              "</tr>\n",
              "<tr>\n",
              "  <th>Covariance Type:</th>         <td>nonrobust</td>       <th>                     </th>     <td> </td>   \n",
              "</tr>\n",
              "</table>\n",
              "<table class=\"simpletable\">\n",
              "<tr>\n",
              "              <td></td>                <th>coef</th>     <th>std err</th>      <th>t</th>      <th>P>|t|</th>  <th>[0.025</th>    <th>0.975]</th>  \n",
              "</tr>\n",
              "<tr>\n",
              "  <th>const</th>                    <td> -279.5243</td> <td> 1840.707</td> <td>   -0.152</td> <td> 0.880</td> <td>-3933.298</td> <td> 3374.250</td>\n",
              "</tr>\n",
              "<tr>\n",
              "  <th>expected_recovery_amount</th> <td>    0.9189</td> <td>    1.886</td> <td>    0.487</td> <td> 0.627</td> <td>   -2.825</td> <td>    4.663</td>\n",
              "</tr>\n",
              "<tr>\n",
              "  <th>indicator_1000</th>           <td>  286.5337</td> <td>  111.352</td> <td>    2.573</td> <td> 0.012</td> <td>   65.502</td> <td>  507.566</td>\n",
              "</tr>\n",
              "</table>\n",
              "<table class=\"simpletable\">\n",
              "<tr>\n",
              "  <th>Omnibus:</th>       <td>39.302</td> <th>  Durbin-Watson:     </th> <td>   1.955</td>\n",
              "</tr>\n",
              "<tr>\n",
              "  <th>Prob(Omnibus):</th> <td> 0.000</td> <th>  Jarque-Bera (JB):  </th> <td>  82.258</td>\n",
              "</tr>\n",
              "<tr>\n",
              "  <th>Skew:</th>          <td> 1.564</td> <th>  Prob(JB):          </th> <td>1.37e-18</td>\n",
              "</tr>\n",
              "<tr>\n",
              "  <th>Kurtosis:</th>      <td> 6.186</td> <th>  Cond. No.          </th> <td>6.81e+04</td>\n",
              "</tr>\n",
              "</table><br/><br/>Notes:<br/>[1] Standard Errors assume that the covariance matrix of the errors is correctly specified.<br/>[2] The condition number is large, 6.81e+04. This might indicate that there are<br/>strong multicollinearity or other numerical problems."
            ]
          },
          "metadata": {},
          "execution_count": 29
        }
      ]
    }
  ],
  "metadata": {
    "kernelspec": {
      "name": "python3",
      "display_name": "Python 3",
      "language": "python"
    },
    "language_info": {
      "name": "python",
      "version": "3.6.7",
      "mimetype": "text/x-python",
      "codemirror_mode": {
        "name": "ipython",
        "version": 3
      },
      "pygments_lexer": "ipython3",
      "nbconvert_exporter": "python",
      "file_extension": ".py"
    },
    "colab": {
      "provenance": [],
      "include_colab_link": true
    }
  },
  "nbformat": 4,
  "nbformat_minor": 0
}